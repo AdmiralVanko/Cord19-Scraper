{
 "cells": [
  {
   "cell_type": "code",
   "execution_count": null,
   "id": "ideal-manual",
   "metadata": {},
   "outputs": [],
   "source": [
    "#Resources\n",
    "#https://universaldependencies.org/en/dep/index.html\n",
    "#https://universaldependencies.org/u/pos/\n",
    "#https://nlp.stanford.edu/software/dependencies_manual.pdf"
   ]
  },
  {
   "cell_type": "code",
   "execution_count": null,
   "id": "loose-password",
   "metadata": {},
   "outputs": [],
   "source": [
    "#code to single out titles with search terms\n",
    "import csv\n",
    "import os\n",
    "import json\n",
    "from collections import defaultdict\n",
    "import spacy\n",
    "\n",
    "cord_uid_to_text = defaultdict(list)\n",
    "\n",
    "with open(\"metadata.csv\", encoding=\"utf-8\") as f_in:\n",
    "    reader = csv.DictReader(f_in)\n",
    "    for column in reader:\n",
    "        title = column['title']\n",
    "        abstract = column['abstract']\n",
    "        cord_uid = column['cord_uid']\n",
    "        title.lower()\n",
    "        if \"registry\" in title:\n",
    "            print(title + \"\\n\")\n",
    "        elif \"database\" in title:\n",
    "            print(title + \"\\n\")\n",
    "        elif \"databases\" in title:\n",
    "            print(title + \"\\n\")\n",
    "        elif \"registries\" in title:\n",
    "            print(title + \"\\n\")\n",
    "        elif \"platform\" in title:\n",
    "            print(title + \"\\n\")\n",
    "        elif \"platforms\" in title:\n",
    "            print(title + \"\\n\")\n",
    "        elif \"repository\" in title:\n",
    "             print(title + \"\\n\")\n",
    "        elif \"repositories\" in title:\n",
    "            print(title + \"\\n\")\n",
    "        elif \"ipd-ma\" in title:\n",
    "            print(title + \"\\n\")\n",
    "        elif \"data dashboard\" in title:\n",
    "            print(title + \"\\n\")\n",
    "        elif \"individual participant data meta-analysis\" in title:\n",
    "            print(title + \"\\n\")\n",
    "# with title :  + \"\\n\" + title + \"\\n\""
   ]
  },
  {
   "cell_type": "code",
   "execution_count": null,
   "id": "egyptian-employee",
   "metadata": {},
   "outputs": [],
   "source": [
    "#Code to match a proper noun (title of database) to the root of the sentence\n",
    "import csv\n",
    "import os\n",
    "import json\n",
    "from collections import defaultdict\n",
    "import spacy\n",
    "\n",
    "terms = [\"registry\", \"registries\", \"database\", \"databases\", \"platform\", \"platforms\", \"repository\", \"repositories\",\n",
    "        \"ipd-ma\", \"data dashboard\", \"individual participant data meta-analysis\"]\n",
    "\n",
    "cord_uid_to_text = defaultdict(list)\n",
    "parser = spacy.load(\"en_core_web_lg\")\n",
    "with open(\"parsed_metadata.csv\", encoding=\"utf-8\") as f_in:\n",
    "    reader = csv.DictReader(f_in)\n",
    "    for column in reader:\n",
    "        title = column['title']\n",
    "        cord_uid = column['cord_uid']\n",
    "        pdoc = parser(title)\n",
    "        for token in pdoc:\n",
    "            if token.pos_ == \"PROPN\" and token.dep_ == \"ROOT\":\n",
    "                print(cord_uid)\n",
    "            else:\n",
    "                next"
   ]
  },
  {
   "cell_type": "code",
   "execution_count": null,
   "id": "mysterious-julian",
   "metadata": {},
   "outputs": [],
   "source": [
    "#code to match any appositional modifiers to specific target terms\n",
    "import csv\n",
    "import os\n",
    "import json\n",
    "from collections import defaultdict\n",
    "import spacy\n",
    "\n",
    "terms = [\"registry\", \"registries\", \"database\", \"databases\", \"platform\", \"platforms\", \"repository\", \"repositories\",\n",
    "        \"ipd-ma\", \"data dashboard\", \"individual participant data meta-analysis\"]\n",
    "\n",
    "cord_uid_to_text = defaultdict(list)\n",
    "parser = spacy.load(\"en_core_web_lg\")\n",
    "with open(\"parsed_metadata.csv\", encoding=\"utf-8\") as f_in:\n",
    "    reader = csv.DictReader(f_in)\n",
    "    for column in reader:\n",
    "        title = column['title']\n",
    "        cord_uid = column['cord_uid']\n",
    "        pdoc = parser(title)\n",
    "        for token in pdoc:\n",
    "            if token.dep_ == \"appos\":\n",
    "                if token.orth_ in terms:\n",
    "                    print(title)"
   ]
  }
 ],
 "metadata": {
  "kernelspec": {
   "display_name": "Python 3",
   "language": "python",
   "name": "python3"
  },
  "language_info": {
   "codemirror_mode": {
    "name": "ipython",
    "version": 3
   },
   "file_extension": ".py",
   "mimetype": "text/x-python",
   "name": "python",
   "nbconvert_exporter": "python",
   "pygments_lexer": "ipython3",
   "version": "3.9.4"
  }
 },
 "nbformat": 4,
 "nbformat_minor": 5
}
